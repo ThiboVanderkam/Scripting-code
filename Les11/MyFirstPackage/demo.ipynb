{
 "cells": [
  {
   "cell_type": "markdown",
   "metadata": {},
   "source": [
    "# Using my own package\n",
    "\n",
    " - navigate to the folder with setup.py to install --> pip install."
   ]
  },
  {
   "cell_type": "code",
   "execution_count": 2,
   "metadata": {},
   "outputs": [],
   "source": [
    "from firstpackage import strings, numbers"
   ]
  },
  {
   "cell_type": "code",
   "execution_count": 9,
   "metadata": {},
   "outputs": [
    {
     "name": "stdout",
     "output_type": "stream",
     "text": [
      "98 97 110 97 97 110 \n",
      "naanab\n",
      "120\n",
      "True\n",
      "489\n",
      "Help on function Factorial in module firstpackage.numbers:\n",
      "\n",
      "Factorial(x)\n",
      "    Calculate Factorial\n",
      "    Parameters:\n",
      "        int x\n",
      "    Returns:\n",
      "        factorial of x\n",
      "\n"
     ]
    }
   ],
   "source": [
    "print(strings.Ascii(\"banaan\"))\n",
    "print(strings.Reverse(\"banaan\"))\n",
    "\n",
    "print(numbers.Factorial(5))\n",
    "print(numbers.Odd(5))\n",
    "print(numbers.Sum(420,69))\n",
    "help(numbers.Factorial)"
   ]
  }
 ],
 "metadata": {
  "interpreter": {
   "hash": "00a74613864dde85ae17f9d3942523f6d72f8b12d2aabcd88fdc627704610d48"
  },
  "kernelspec": {
   "display_name": "Python 3.10.2 64-bit",
   "language": "python",
   "name": "python3"
  },
  "language_info": {
   "codemirror_mode": {
    "name": "ipython",
    "version": 3
   },
   "file_extension": ".py",
   "mimetype": "text/x-python",
   "name": "python",
   "nbconvert_exporter": "python",
   "pygments_lexer": "ipython3",
   "version": "3.10.2"
  },
  "orig_nbformat": 4
 },
 "nbformat": 4,
 "nbformat_minor": 2
}
