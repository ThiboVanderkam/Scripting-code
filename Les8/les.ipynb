{
 "cells": [
  {
   "cell_type": "markdown",
   "metadata": {},
   "source": [
    "# Scheduling les 26 april\n",
    "## Keeping Time"
   ]
  },
  {
   "cell_type": "code",
   "execution_count": 2,
   "metadata": {},
   "outputs": [],
   "source": [
    "import time, requests, json "
   ]
  },
  {
   "cell_type": "code",
   "execution_count": 3,
   "metadata": {},
   "outputs": [
    {
     "name": "stdout",
     "output_type": "stream",
     "text": [
      "1650968669.7499645\n",
      "Tue Apr 26 12:24:29 2022\n"
     ]
    }
   ],
   "source": [
    "print(time.time())\n",
    "print(time.ctime())"
   ]
  },
  {
   "cell_type": "markdown",
   "metadata": {},
   "source": [
    "### Tokyo tijd ophalen\n",
    "http://worldtimeapi.org"
   ]
  },
  {
   "cell_type": "code",
   "execution_count": 4,
   "metadata": {},
   "outputs": [
    {
     "name": "stdout",
     "output_type": "stream",
     "text": [
      "error\n",
      "Time in Tokyo is  2022-04-26T19:24:29.705783+09:00\n",
      "Tijd nodig om info op te halen 0.06280064582824707\n"
     ]
    }
   ],
   "source": [
    "link = \"http://worldtimeapi.org/api/timezone/Asia/Tokyo\"\n",
    "start = time.time()\n",
    "response = requests.get(link)\n",
    "if (response != 200):\n",
    "    print(\"error\")\n",
    "\n",
    "data = json.loads(response.text)\n",
    "print(\"Time in Tokyo is \",data[\"datetime\"])\n",
    "\n",
    "stop = time.time()\n",
    "\n",
    "print(\"Tijd nodig om info op te halen\", stop - start)"
   ]
  },
  {
   "cell_type": "markdown",
   "metadata": {},
   "source": [
    "### Tijd voor een bom"
   ]
  },
  {
   "cell_type": "code",
   "execution_count": 5,
   "metadata": {},
   "outputs": [
    {
     "name": "stdout",
     "output_type": "stream",
     "text": [
      "tik tak\n",
      "tik tak\n"
     ]
    }
   ],
   "source": [
    "import playsound, time\n",
    "for i in range(2):\n",
    "    print(\"tik\", end=\" \")\n",
    "    time.sleep(1)\n",
    "    print(\"tak\")\n",
    "    time.sleep(1)\n",
    "playsound.playsound(\"battle_explosion.wav\")"
   ]
  },
  {
   "cell_type": "markdown",
   "metadata": {},
   "source": [
    "### Werken met datetime"
   ]
  },
  {
   "cell_type": "code",
   "execution_count": 6,
   "metadata": {},
   "outputs": [
    {
     "name": "stdout",
     "output_type": "stream",
     "text": [
      "2022-04-26 12:24:37.392347\n",
      "Aantal dagen tot examen: 43\n",
      "1970-01-01 01:01:09\n",
      "2022-04-26 00:00:00\n"
     ]
    }
   ],
   "source": [
    "import datetime as dt\n",
    "\n",
    "print(dt.datetime.now())\n",
    "\n",
    "ex = dt.datetime(2022,6,9,0,0)\n",
    "print(\"Aantal dagen tot examen:\",(ex-dt.datetime.now()).days)\n",
    "\n",
    "print(dt.datetime.fromtimestamp(69))\n",
    "\n",
    "ex -= dt.timedelta(days=44)\n",
    "print(ex)"
   ]
  },
  {
   "cell_type": "markdown",
   "metadata": {},
   "source": [
    "### Kookwekker"
   ]
  },
  {
   "cell_type": "code",
   "execution_count": 9,
   "metadata": {},
   "outputs": [],
   "source": [
    "import time, playsound\n",
    "seconden = int(input(\"Geef een aantal seconden in\"))\n",
    "time.sleep(seconden)\n",
    "playsound.playsound(\"alarm.wav\")\n"
   ]
  },
  {
   "cell_type": "markdown",
   "metadata": {},
   "source": [
    "## Multithreading\n",
    "### Werken met Kanye (https://api.kanye.rest/)"
   ]
  },
  {
   "cell_type": "code",
   "execution_count": 11,
   "metadata": {},
   "outputs": [],
   "source": [
    "import threading, time, requests, json, playsound\n",
    "\n",
    "def functieA():\n",
    "    for i in range(10):\n",
    "        print(8,\"*\",i,\"=\",(8*i))\n",
    "\n",
    "def functieB():\n",
    "    response = requests.get(\"https://api.kanye.rest/\")\n",
    "    print(json.loads(response.text)[\"quote\"])\n",
    "\n",
    "def functieC():\n",
    "    time.sleep(5)\n",
    "    print(\"Ik ben wakker!\")\n",
    "\n",
    "def functieD():\n",
    "    playsound.playsound(\"alarm.wav\")\n",
    "\n"
   ]
  },
  {
   "cell_type": "code",
   "execution_count": 12,
   "metadata": {},
   "outputs": [
    {
     "name": "stdout",
     "output_type": "stream",
     "text": [
      "SINGLE THREADING\n",
      "start\n",
      "8 * 0 = 0\n",
      "8 * 1 = 8\n",
      "8 * 2 = 16\n",
      "8 * 3 = 24\n",
      "8 * 4 = 32\n",
      "8 * 5 = 40\n",
      "8 * 6 = 48\n",
      "8 * 7 = 56\n",
      "8 * 8 = 64\n",
      "8 * 9 = 72\n",
      "There are 5 main pillars in a professional musicians business - Recording, Publishing, Touring, Merchandise & Name and likeness\n",
      "Ik ben wakker!\n",
      "stop\n"
     ]
    }
   ],
   "source": [
    "print(\"SINGLE THREADING\")\n",
    "print(\"start\")\n",
    "functieA()\n",
    "functieB()\n",
    "functieC()\n",
    "functieD()\n",
    "print(\"stop\")"
   ]
  },
  {
   "cell_type": "code",
   "execution_count": 15,
   "metadata": {},
   "outputs": [
    {
     "name": "stdout",
     "output_type": "stream",
     "text": [
      "MULTI THREADING\n",
      "start\n",
      "8 * 0 = 0\n",
      "8 * 1 = 8\n",
      "8 * 2 = 16\n",
      "8 * 3 = 24\n",
      "8 stop* \n",
      "4 = 32\n",
      "8 * 5 = 40\n",
      "8 * 6 = 48\n",
      "8 * 7 = 56\n",
      "8 * 8 = 64\n",
      "8 * 9 = 72\n",
      "All the musicians will be free\n",
      "Ik ben wakker!\n"
     ]
    }
   ],
   "source": [
    "threadA = threading.Thread(target=functieA)\n",
    "threadB = threading.Thread(target=functieB)\n",
    "threadC = threading.Thread(target=functieC)\n",
    "threadD = threading.Thread(target=functieD)\n",
    "print(\"MULTI THREADING\")\n",
    "print(\"start\")\n",
    "threadA.start()\n",
    "threadB.start()\n",
    "threadC.start()\n",
    "threadD.start()\n",
    "print(\"stop\")"
   ]
  },
  {
   "cell_type": "markdown",
   "metadata": {},
   "source": [
    "## Launching programs"
   ]
  },
  {
   "cell_type": "code",
   "execution_count": 19,
   "metadata": {},
   "outputs": [
    {
     "name": "stdout",
     "output_type": "stream",
     "text": [
      "None\n"
     ]
    }
   ],
   "source": [
    "import subprocess\n",
    "calc = subprocess.Popen(r\"C:\\Windows\\System32\\calc.exe\")\n",
    "\n",
    "print(calc.poll())\n",
    "calc.kill()"
   ]
  },
  {
   "cell_type": "code",
   "execution_count": null,
   "metadata": {},
   "outputs": [],
   "source": []
  },
  {
   "cell_type": "code",
   "execution_count": 25,
   "metadata": {},
   "outputs": [
    {
     "data": {
      "text/plain": [
       "<Popen: returncode: None args: ['start', 'test.txt']>"
      ]
     },
     "execution_count": 25,
     "metadata": {},
     "output_type": "execute_result"
    }
   ],
   "source": [
    "import subprocess\n",
    "\n",
    "html = open(\"test.html\", \"w\")\n",
    "html.write(\"<html><head><title>Hellooooo</title></head></html>\")\n",
    "html.close()\n",
    "\n",
    "subprocess.Popen([\"start\",\"test.html\"], shell=True)\n",
    "\n",
    "txt = open(\"test.txt\",\"w\")\n",
    "txt.write(\"test\")\n",
    "txt.close()\n",
    "subprocess.Popen([\"start\", \"test.txt\"], shell=True)\n",
    "\n"
   ]
  },
  {
   "cell_type": "code",
   "execution_count": 26,
   "metadata": {},
   "outputs": [
    {
     "data": {
      "text/plain": [
       "<Popen: returncode: None args: ['start', 'https://google.be']>"
      ]
     },
     "execution_count": 26,
     "metadata": {},
     "output_type": "execute_result"
    }
   ],
   "source": [
    "import subprocess\n",
    "subprocess.Popen([\"start\", \"https://google.be\"], shell=True)"
   ]
  }
 ],
 "metadata": {
  "interpreter": {
   "hash": "db9ba4c5e1290bef0d4a13c2408ad9c2f13aefc6074e584b54428242102a9973"
  },
  "kernelspec": {
   "display_name": "Python 3.10.2 64-bit",
   "language": "python",
   "name": "python3"
  },
  "language_info": {
   "codemirror_mode": {
    "name": "ipython",
    "version": 3
   },
   "file_extension": ".py",
   "mimetype": "text/x-python",
   "name": "python",
   "nbconvert_exporter": "python",
   "pygments_lexer": "ipython3",
   "version": "3.10.2"
  },
  "orig_nbformat": 4
 },
 "nbformat": 4,
 "nbformat_minor": 2
}
