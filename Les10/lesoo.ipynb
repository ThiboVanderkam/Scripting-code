{
 "cells": [
  {
   "cell_type": "markdown",
   "metadata": {},
   "source": [
    "# Les OO: les 10/5"
   ]
  },
  {
   "cell_type": "markdown",
   "metadata": {},
   "source": [
    "## self"
   ]
  },
  {
   "cell_type": "code",
   "execution_count": 1,
   "metadata": {},
   "outputs": [
    {
     "name": "stdout",
     "output_type": "stream",
     "text": [
      "Parrot is created\n",
      "<__main__.Parrot object at 0x000002EA2799B1C0>\n"
     ]
    }
   ],
   "source": [
    "class Parrot:\n",
    "    def __init__(self):\n",
    "        print(\"Parrot is created\")\n",
    "\n",
    "henkie = Parrot()\n",
    "print(henkie)"
   ]
  },
  {
   "cell_type": "markdown",
   "metadata": {},
   "source": [
    "## Properties & methods"
   ]
  },
  {
   "cell_type": "code",
   "execution_count": 2,
   "metadata": {},
   "outputs": [
    {
     "name": "stdout",
     "output_type": "stream",
     "text": [
      "Henkie is 22 jaar oud en is een papegaai\n",
      "Henkie zegt hallo\n",
      "Frankie is 12 jaar oud en is een papegaai\n",
      "vogel\n",
      "Henkie is een papegaai\n",
      "Frankie is een papegaai\n",
      "dit is een vogel\n"
     ]
    }
   ],
   "source": [
    "import playsound, datetime as dt\n",
    "\n",
    "class Bird:\n",
    "    species = \"vogel\"\n",
    "\n",
    "    def info(self):\n",
    "        print(\"dit is een\", self.species)\n",
    "\n",
    "\n",
    "class Parrot(Bird):\n",
    "    species = \"papegaai\"\n",
    "\n",
    "    def __age(self, birthdate):\n",
    "        return dt.datetime.now().year - birthdate.year\n",
    "\n",
    "    def __init__(self, name, birthdate, color):\n",
    "        self.name = name\n",
    "        self.age = self.__age(birthdate)\n",
    "        self.color = color\n",
    "    \n",
    "    def sing(self):\n",
    "        playsound.playsound(\"parrot.wav\")\n",
    "    \n",
    "    def talk(self, text):\n",
    "        print(self.name,\"zegt\",text)\n",
    "\n",
    "    def info(self):\n",
    "        print(self.name,\"is een\", self.species)\n",
    "\n",
    "\n",
    "\n",
    "henkie = Parrot(\"Henkie\", dt.datetime(2000,1,1), \"geel\")\n",
    "print(henkie.name, \"is\", henkie.age, \"jaar oud en is een\", henkie.species)\n",
    "henkie.talk(\"hallo\")\n",
    "\n",
    "frankie = Parrot(\"Frankie\", dt.datetime(2010,1,1), \"rood\")\n",
    "print(frankie.name, \"is\", frankie.age, \"jaar oud en is een\", frankie.species)\n",
    "# frankie.sing()\n",
    "\n",
    "bert = Bird()\n",
    "print(bert.species)\n",
    "\n",
    "vogels = [henkie, frankie, bert]\n",
    "\n",
    "for vogel in vogels:\n",
    "    vogel.info()\n"
   ]
  },
  {
   "cell_type": "markdown",
   "metadata": {},
   "source": [
    "## Inheritance"
   ]
  },
  {
   "cell_type": "code",
   "execution_count": 3,
   "metadata": {},
   "outputs": [
    {
     "name": "stdout",
     "output_type": "stream",
     "text": [
      "A\n",
      "B\n",
      "A\n"
     ]
    }
   ],
   "source": [
    "class A():\n",
    "    def info(self):\n",
    "        print(\"A\")\n",
    "\n",
    "class B():\n",
    "    def info(self):\n",
    "        print(\"B\")\n",
    "class C(A):\n",
    "    pass\n",
    "\n",
    "\n",
    "a = A()\n",
    "b = B()\n",
    "c = C()\n",
    "\n",
    "a.info()\n",
    "b.info()\n",
    "c.info()"
   ]
  },
  {
   "cell_type": "markdown",
   "metadata": {},
   "source": [
    "## Super method"
   ]
  },
  {
   "cell_type": "code",
   "execution_count": 4,
   "metadata": {},
   "outputs": [
    {
     "name": "stdout",
     "output_type": "stream",
     "text": [
      "A\n",
      "B\n",
      "A\n",
      "C\n",
      "A\n"
     ]
    }
   ],
   "source": [
    "class A():\n",
    "    def info(self):\n",
    "        print(\"A\")\n",
    "\n",
    "class B(A):\n",
    "    def info(self):\n",
    "        print(\"B\")\n",
    "        super().info()\n",
    "\n",
    "class C(A):\n",
    "    def info(self):\n",
    "        print(\"C\")\n",
    "        super().info()\n",
    "\n",
    "\n",
    "a = A()\n",
    "b = B()\n",
    "c = C()\n",
    "\n",
    "a.info()\n",
    "b.info()\n",
    "c.info()"
   ]
  },
  {
   "cell_type": "code",
   "execution_count": 5,
   "metadata": {},
   "outputs": [
    {
     "name": "stdout",
     "output_type": "stream",
     "text": [
      "--- A\n",
      "A\n",
      "--- B\n",
      "B\n",
      "A\n",
      "--- C\n",
      "C\n",
      "A\n",
      "--- D\n",
      "D\n",
      "B\n",
      "C\n",
      "A\n"
     ]
    }
   ],
   "source": [
    "class A():\n",
    "    def info(self):\n",
    "        print(\"A\")\n",
    "\n",
    "class B(A):\n",
    "    def info(self):\n",
    "        print(\"B\")\n",
    "        super().info()\n",
    "\n",
    "class C(A):\n",
    "    def info(self):\n",
    "        print(\"C\")\n",
    "        super().info()\n",
    "\n",
    "class D(B,C):\n",
    "    def info(self):\n",
    "        print(\"D\")\n",
    "        super().info()\n",
    "\n",
    "a = A()\n",
    "b = B()\n",
    "c = C()\n",
    "d = D()\n",
    "\n",
    "print(\"--- A\")\n",
    "a.info()\n",
    "print(\"--- B\")\n",
    "b.info()\n",
    "print(\"--- C\")\n",
    "c.info()\n",
    "print(\"--- D\")\n",
    "d.info()"
   ]
  },
  {
   "cell_type": "code",
   "execution_count": 6,
   "metadata": {},
   "outputs": [
    {
     "name": "stdout",
     "output_type": "stream",
     "text": [
      "vogelbekdier\n",
      "zoogdier\n",
      "dier\n"
     ]
    }
   ],
   "source": [
    "class Dier():\n",
    "    def info(self):\n",
    "        print(\"dier\")\n",
    "\n",
    "class Zoogdier(Dier):\n",
    "    def info(self):\n",
    "        print(\"zoogdier\")\n",
    "        super().info()\n",
    "\n",
    "class Vogelbekdier(Zoogdier):\n",
    "    def info(self):\n",
    "        print(\"vogelbekdier\")\n",
    "        super().info()\n",
    "\n",
    "dier = Vogelbekdier()\n",
    "dier.info()"
   ]
  },
  {
   "cell_type": "markdown",
   "metadata": {},
   "source": [
    "## Vogelbekdier :)"
   ]
  },
  {
   "cell_type": "code",
   "execution_count": 1,
   "metadata": {},
   "outputs": [
    {
     "name": "stdout",
     "output_type": "stream",
     "text": [
      "dit is een Mammal\n",
      "None\n"
     ]
    }
   ],
   "source": [
    "from specials import Platypus\n",
    "\n",
    "vogelbekdier = Platypus()\n",
    "vogelbekdier.info()"
   ]
  }
 ],
 "metadata": {
  "interpreter": {
   "hash": "00a74613864dde85ae17f9d3942523f6d72f8b12d2aabcd88fdc627704610d48"
  },
  "kernelspec": {
   "display_name": "Python 3.10.2 64-bit",
   "language": "python",
   "name": "python3"
  },
  "language_info": {
   "codemirror_mode": {
    "name": "ipython",
    "version": 3
   },
   "file_extension": ".py",
   "mimetype": "text/x-python",
   "name": "python",
   "nbconvert_exporter": "python",
   "pygments_lexer": "ipython3",
   "version": "3.10.2"
  },
  "orig_nbformat": 4
 },
 "nbformat": 4,
 "nbformat_minor": 2
}
